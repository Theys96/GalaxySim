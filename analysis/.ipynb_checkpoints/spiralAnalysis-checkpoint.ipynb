{
 "cells": [
  {
   "cell_type": "code",
   "execution_count": 1,
   "metadata": {},
   "outputs": [],
   "source": [
    "import numpy as np\n",
    "import pandas as pd\n",
    "import matplotlib.pyplot as plt"
   ]
  },
  {
   "cell_type": "code",
   "execution_count": 2,
   "metadata": {},
   "outputs": [],
   "source": [
    "def plotCartesian(name, points, file):\n",
    "    fig = plt.figure(figsize=(5,5))\n",
    "    ax1 = fig.add_subplot(111)\n",
    "    ax1.set_title(\"%s\\nCartesian coordinates\" % name)\n",
    "    ax1.set_xlabel(r'$x$'); plt.ylabel(r'$y$');\n",
    "    ax1.scatter(points.x, points.y, 2, 'r', 'o')\n",
    "    fig.savefig(file)\n",
    "    plt.show()\n",
    "\n",
    "def plotPolar(name, points, file):\n",
    "    fig = plt.figure(figsize=(10,5))\n",
    "    ax1 = fig.add_subplot(111)\n",
    "    ax1.title(\"%s\\nPolar coordinates\" % name)\n",
    "    ax1.xlabel(r'$\\theta$'); plt.ylabel(r'$r$');\n",
    "    ax1.scatter(points.theta, points.r, 2, 'b', 'o')\n",
    "    fig.savefig(file)\n",
    "    plt.show()"
   ]
  },
  {
   "cell_type": "code",
   "execution_count": 3,
   "metadata": {},
   "outputs": [
    {
     "ename": "TypeError",
     "evalue": "plotCartesian() missing 1 required positional argument: 'file'",
     "output_type": "error",
     "traceback": [
      "\u001b[0;31m---------------------------------------------------------------------------\u001b[0m",
      "\u001b[0;31mTypeError\u001b[0m                                 Traceback (most recent call last)",
      "\u001b[0;32m<ipython-input-3-2e6eb1c72b24>\u001b[0m in \u001b[0;36m<module>\u001b[0;34m\u001b[0m\n\u001b[1;32m      1\u001b[0m \u001b[0mcircular\u001b[0m \u001b[0;34m=\u001b[0m \u001b[0mpd\u001b[0m\u001b[0;34m.\u001b[0m\u001b[0mread_csv\u001b[0m\u001b[0;34m(\u001b[0m\u001b[0;34m'circular.csv'\u001b[0m\u001b[0;34m,\u001b[0m \u001b[0msep\u001b[0m\u001b[0;34m=\u001b[0m\u001b[0;34m','\u001b[0m\u001b[0;34m)\u001b[0m\u001b[0;34m\u001b[0m\u001b[0;34m\u001b[0m\u001b[0m\n\u001b[0;32m----> 2\u001b[0;31m \u001b[0mplotCartesian\u001b[0m\u001b[0;34m(\u001b[0m\u001b[0;34m\"Example circular galaxy\"\u001b[0m\u001b[0;34m,\u001b[0m \u001b[0mcircular\u001b[0m\u001b[0;34m)\u001b[0m\u001b[0;34m\u001b[0m\u001b[0;34m\u001b[0m\u001b[0m\n\u001b[0m\u001b[1;32m      3\u001b[0m \u001b[0mplotPolar\u001b[0m\u001b[0;34m(\u001b[0m\u001b[0;34m\"Example circular galaxy\"\u001b[0m\u001b[0;34m,\u001b[0m \u001b[0mcircular\u001b[0m\u001b[0;34m)\u001b[0m\u001b[0;34m\u001b[0m\u001b[0;34m\u001b[0m\u001b[0m\n",
      "\u001b[0;31mTypeError\u001b[0m: plotCartesian() missing 1 required positional argument: 'file'"
     ]
    }
   ],
   "source": [
    "circular = pd.read_csv('circular.csv', sep=',')\n",
    "plotCartesian(\"Example circular galaxy\", circular, 'circular_cartesian.pdf')\n",
    "plotPolar(\"Example circular galaxy\", circular, 'circular_polar.pdf')"
   ]
  },
  {
   "cell_type": "code",
   "execution_count": null,
   "metadata": {},
   "outputs": [],
   "source": [
    "spiral = pd.read_csv('spiral.csv', sep=',')\n",
    "plotCartesian(\"Example spiral galaxy\", spiral, 'spiral_cartesian.pdf')\n",
    "plotPolar(\"Example spiral galaxy\", spiral)"
   ]
  },
  {
   "cell_type": "code",
   "execution_count": null,
   "metadata": {},
   "outputs": [],
   "source": []
  }
 ],
 "metadata": {
  "kernelspec": {
   "display_name": "Python 3",
   "language": "python",
   "name": "python3"
  },
  "language_info": {
   "codemirror_mode": {
    "name": "ipython",
    "version": 3
   },
   "file_extension": ".py",
   "mimetype": "text/x-python",
   "name": "python",
   "nbconvert_exporter": "python",
   "pygments_lexer": "ipython3",
   "version": "3.7.3"
  }
 },
 "nbformat": 4,
 "nbformat_minor": 2
}
