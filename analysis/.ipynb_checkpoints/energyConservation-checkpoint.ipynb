{
 "cells": [
  {
   "cell_type": "code",
   "execution_count": 9,
   "metadata": {},
   "outputs": [],
   "source": [
    "import numpy as np\n",
    "import pandas as pd\n",
    "import matplotlib.pyplot as plt"
   ]
  },
  {
   "cell_type": "code",
   "execution_count": 10,
   "metadata": {},
   "outputs": [],
   "source": [
    "euler = np.array(pd.read_csv('energy_euler.csv', sep=','))\n",
    "barneshut = np.array(pd.read_csv('energy_barneshut.csv', sep=','))\n",
    "ms = np.array(pd.read_csv('energy_ms.csv', sep=','))"
   ]
  },
  {
   "cell_type": "code",
   "execution_count": 77,
   "metadata": {},
   "outputs": [
    {
     "name": "stdout",
     "output_type": "stream",
     "text": [
      "somelist [100]\n",
      "somelist [200]\n",
      "somelist [500]\n",
      "somelist [1000]\n",
      "somelist [1500]\n",
      "somelist [2000]\n",
      "somelist [3000]\n",
      "somelist [5000]\n"
     ]
    },
    {
     "data": {
      "image/png": "[encoded data removed]",
      "text/plain": [
       "<Figure size 432x288 with 1 Axes>"
      ]
     },
     "metadata": {
      "needs_background": "light"
     },
     "output_type": "display_data"
    }
   ],
   "source": [
    "fig = plt.figure()\n",
    "ax1 = fig.add_subplot(111)\n",
    "#ax1.boxplot()\n",
    "sets = np.array([], ndmin=2)\n",
    "lbls = np.array([], ndmin=2)\n",
    "ax1.set_xticklabels([100,200,500,1000,1500,2000,3000,5000])\n",
    "ax1.set_xticks([1.5, 4.5, 7.5])\n",
    "i = 1\n",
    "for x in [100,200,500,1000,1500,2000,3000,5000]:\n",
    "    ax1.boxplot(euler[euler[:,0] == x][:,1], positions=[i], labels=[x])\n",
    "    print(\"somelist\", [x])\n",
    "    i += 1\n",
    "plt.show()"
   ]
  },
  {
   "cell_type": "code",
   "execution_count": null,
   "metadata": {},
   "outputs": [],
   "source": []
  }
 ],
 "metadata": {
  "kernelspec": {
   "display_name": "Python 3",
   "language": "python",
   "name": "python3"
  },
  "language_info": {
   "codemirror_mode": {
    "name": "ipython",
    "version": 3
   },
   "file_extension": ".py",
   "mimetype": "text/x-python",
   "name": "python",
   "nbconvert_exporter": "python",
   "pygments_lexer": "ipython3",
   "version": "3.7.3"
  }
 },
 "nbformat": 4,
 "nbformat_minor": 2
}
