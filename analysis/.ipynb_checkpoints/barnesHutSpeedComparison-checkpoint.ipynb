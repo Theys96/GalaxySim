{
 "cells": [
  {
   "cell_type": "code",
   "execution_count": 5,
   "metadata": {},
   "outputs": [],
   "source": [
    "import numpy as np\n",
    "import pandas as pd\n",
    "import matplotlib.pyplot as plt"
   ]
  },
  {
   "cell_type": "code",
   "execution_count": 6,
   "metadata": {},
   "outputs": [
    {
     "name": "stdout",
     "output_type": "stream",
     "text": [
      "        n        ms\n",
      "0     100     0.133\n",
      "1     100     0.135\n",
      "2     100     0.135\n",
      "3     200     0.524\n",
      "4     200     0.523\n",
      "5     200     0.525\n",
      "6     500     3.232\n",
      "7     500     3.250\n",
      "8     500     3.234\n",
      "9     800     8.245\n",
      "10    800     8.181\n",
      "11    800     8.186\n",
      "12   1000    12.738\n",
      "13   1000    12.845\n",
      "14   1000    12.725\n",
      "15   1500    28.484\n",
      "16   1500    29.080\n",
      "17   1500    29.104\n",
      "18   2000    50.583\n",
      "19   2000    49.935\n",
      "20   2000    50.177\n",
      "21   3000   111.540\n",
      "22   3000   111.431\n",
      "23   3000   111.919\n",
      "24   5000   306.713\n",
      "25   5000   309.158\n",
      "26   5000   308.216\n",
      "27  10000  1221.165\n",
      "28  10000  1220.834\n",
      "29  10000  1225.315\n"
     ]
    }
   ],
   "source": [
    "euler = pd.read_csv('compTime_euler.csv', sep=',')\n",
    "barneshut = pd.read_csv('compTime_barneshut.csv', sep=',')\n",
    "\n",
    "fig = plt.figure()\n",
    "ax1 = fig.add_subplot(111)\n",
    "ax1.scatter(euler.n, euler.ms, c='b', marker=\"s\", label='first')\n",
    "ax1.scatter(x[40:],y[40:], s=10, c='r', marker=\"o\", label='second')"
   ]
  },
  {
   "cell_type": "code",
   "execution_count": null,
   "metadata": {},
   "outputs": [],
   "source": []
  }
 ],
 "metadata": {
  "kernelspec": {
   "display_name": "Python 3",
   "language": "python",
   "name": "python3"
  },
  "language_info": {
   "codemirror_mode": {
    "name": "ipython",
    "version": 3
   },
   "file_extension": ".py",
   "mimetype": "text/x-python",
   "name": "python",
   "nbconvert_exporter": "python",
   "pygments_lexer": "ipython3",
   "version": "3.7.3"
  }
 },
 "nbformat": 4,
 "nbformat_minor": 2
}
